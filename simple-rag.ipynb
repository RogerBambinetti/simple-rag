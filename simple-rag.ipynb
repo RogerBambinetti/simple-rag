{
 "cells": [
  {
   "cell_type": "code",
   "execution_count": 2,
   "id": "a2b37371-1dbe-4a0a-b501-d907d021d3a5",
   "metadata": {},
   "outputs": [
    {
     "ename": "ImportError",
     "evalue": "cannot import name 'RecursiveCharacterSplitter' from 'langchain_text_splitters' (C:\\Users\\Roger\\AppData\\Local\\Programs\\Python\\Python310\\lib\\site-packages\\langchain_text_splitters\\__init__.py)",
     "output_type": "error",
     "traceback": [
      "\u001b[1;31m---------------------------------------------------------------------------\u001b[0m",
      "\u001b[1;31mImportError\u001b[0m                               Traceback (most recent call last)",
      "Cell \u001b[1;32mIn[2], line 1\u001b[0m\n\u001b[1;32m----> 1\u001b[0m \u001b[38;5;28;01mfrom\u001b[39;00m \u001b[38;5;21;01mlangchain_text_splitters\u001b[39;00m \u001b[38;5;28;01mimport\u001b[39;00m RecursiveCharacterSplitter\n\u001b[0;32m      2\u001b[0m \u001b[38;5;28;01mfrom\u001b[39;00m \u001b[38;5;21;01mlangchain_openai\u001b[39;00m \u001b[38;5;28;01mimport\u001b[39;00m OpenAIEmbeddings\n\u001b[0;32m      3\u001b[0m \u001b[38;5;28;01mfrom\u001b[39;00m \u001b[38;5;21;01mlangchain_openai\u001b[39;00m \u001b[38;5;28;01mimport\u001b[39;00m ChatOpenAI\n",
      "\u001b[1;31mImportError\u001b[0m: cannot import name 'RecursiveCharacterSplitter' from 'langchain_text_splitters' (C:\\Users\\Roger\\AppData\\Local\\Programs\\Python\\Python310\\lib\\site-packages\\langchain_text_splitters\\__init__.py)"
     ]
    }
   ],
   "source": [
    "from langchain_text_splitters import RecursiveCharacterSplitter\n",
    "from langchain_openai import OpenAIEmbeddings\n",
    "from langchain_openai import ChatOpenAI\n",
    "from langchain_community.vectorstores import Chroma\n",
    "from langchain_community.document_loaders import PyPDFLoader\n",
    "from langchain.chains.question_answering import load_qa_chain"
   ]
  },
  {
   "cell_type": "code",
   "execution_count": 3,
   "id": "29bca712-23a4-42b2-8112-c4b413f678bc",
   "metadata": {},
   "outputs": [],
   "source": [
    "import os"
   ]
  },
  {
   "cell_type": "code",
   "execution_count": 4,
   "id": "5ddd837b-812b-40e8-8ebd-e0f3f6a2adf2",
   "metadata": {},
   "outputs": [],
   "source": [
    "os.environ[\"OPEN_API_KEY\"] = \"\""
   ]
  },
  {
   "cell_type": "code",
   "execution_count": 5,
   "id": "17abca70-b8d5-4bc9-b90a-6d210d3dd977",
   "metadata": {},
   "outputs": [
    {
     "ename": "NameError",
     "evalue": "name 'OpenAIEmbeddings' is not defined",
     "output_type": "error",
     "traceback": [
      "\u001b[1;31m---------------------------------------------------------------------------\u001b[0m",
      "\u001b[1;31mNameError\u001b[0m                                 Traceback (most recent call last)",
      "Cell \u001b[1;32mIn[5], line 3\u001b[0m\n\u001b[0;32m      1\u001b[0m \u001b[38;5;66;03m#Loading models (Embeddings + LLM)\u001b[39;00m\n\u001b[1;32m----> 3\u001b[0m embeddings_model \u001b[38;5;241m=\u001b[39m \u001b[43mOpenAIEmbeddings\u001b[49m()\n\u001b[0;32m      4\u001b[0m llm \u001b[38;5;241m=\u001b[39m ChatOpenAI(model_name\u001b[38;5;241m=\u001b[39m \u001b[38;5;124m\"\u001b[39m\u001b[38;5;124mgpt-3.5-turbo\u001b[39m\u001b[38;5;124m\"\u001b[39m, max_tokens\u001b[38;5;241m=\u001b[39m \u001b[38;5;241m200\u001b[39m)\n",
      "\u001b[1;31mNameError\u001b[0m: name 'OpenAIEmbeddings' is not defined"
     ]
    }
   ],
   "source": [
    "#Loading models (Embeddings + LLM)\n",
    "\n",
    "embeddings_model = OpenAIEmbeddings()\n",
    "llm = ChatOpenAI(model_name= \"gpt-3.5-turbo\", max_tokens= 200)\n"
   ]
  },
  {
   "cell_type": "code",
   "execution_count": null,
   "id": "9bfb31de-1504-4528-a361-1168f3ec8d4d",
   "metadata": {},
   "outputs": [],
   "source": [
    "#Loading PDF\n",
    "\n",
    "pdf_link = \"\"\n",
    "\n",
    "loader = pyPDFLoader(pdf_link, extract_images=False)\n",
    "pages = loader.load_and_split()"
   ]
  },
  {
   "cell_type": "code",
   "execution_count": null,
   "id": "728bcd6e-1544-496e-b544-32ce3b31b18f",
   "metadata": {},
   "outputs": [],
   "source": [
    "#Split into chunks\n",
    "\n",
    "text_splitter = RecursiveCharacterSplitter(\n",
    "    chunk_size = 4000,\n",
    "    chunk_overlap = 20,\n",
    "    length_function = len,\n",
    "    add_start_index = True\n",
    "    chunks = text_splitter.split_documents(pages)\n",
    ")"
   ]
  },
  {
   "cell_type": "code",
   "execution_count": null,
   "id": "ba4142d7-fdac-415f-b2d7-d549f78639ca",
   "metadata": {},
   "outputs": [],
   "source": [
    "#Save to VectorDB (Chroma)\n",
    "\n",
    "db = Chroma.from_documents(chunks, embedding=embeddings_model, persist_directory=\"text_index\")\n",
    "db.persist()"
   ]
  },
  {
   "cell_type": "code",
   "execution_count": null,
   "id": "07ecfec9-82ae-47b0-9904-6aa00aa43b5b",
   "metadata": {},
   "outputs": [],
   "source": [
    "#Loading DB\n",
    "\n",
    "vectordb = Chroma(persist_directory=\"text_index\", embedding_function=embeddings_model)\n",
    "\n",
    "#Loading Retriever\n",
    "\n",
    "retriever = vectordb.as_retriever(search_kwargs={\"k\": 3})\n",
    "\n",
    "#Build prompt chain\n",
    "\n",
    "chain = load_qa_chain(llm, chain_type=\"stuff\")"
   ]
  },
  {
   "cell_type": "code",
   "execution_count": null,
   "id": "baae33b7-623a-4ded-a71d-70226ff15d95",
   "metadata": {},
   "outputs": [],
   "source": [
    "def ask(question):\n",
    "    context = retriever.get_relevant_documents(question)\n",
    "    answer = (chain({\"input_documents\": context, \"question\": question}, return_only_outputs=True))[\"output_text\"]\n",
    "\n",
    "    return answer"
   ]
  },
  {
   "cell_type": "code",
   "execution_count": null,
   "id": "32f1ac84-ac03-457a-bab8-052093fd9ac5",
   "metadata": {},
   "outputs": [],
   "source": [
    "question = input(\"User: \")\n",
    "answer = ask(question)\n",
    "print(\"Answer: \", answer)"
   ]
  }
 ],
 "metadata": {
  "kernelspec": {
   "display_name": "Python 3 (ipykernel)",
   "language": "python",
   "name": "python3"
  },
  "language_info": {
   "codemirror_mode": {
    "name": "ipython",
    "version": 3
   },
   "file_extension": ".py",
   "mimetype": "text/x-python",
   "name": "python",
   "nbconvert_exporter": "python",
   "pygments_lexer": "ipython3",
   "version": "3.10.5"
  }
 },
 "nbformat": 4,
 "nbformat_minor": 5
}
