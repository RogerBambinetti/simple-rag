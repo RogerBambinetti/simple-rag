{
 "cells": [
  {
   "cell_type": "code",
   "execution_count": null,
   "id": "a2b37371-1dbe-4a0a-b501-d907d021d3a5",
   "metadata": {},
   "outputs": [],
   "source": []
  }
 ],
 "metadata": {
  "kernelspec": {
   "display_name": "",
   "name": ""
  },
  "language_info": {
   "name": ""
  }
 },
 "nbformat": 4,
 "nbformat_minor": 5
}
